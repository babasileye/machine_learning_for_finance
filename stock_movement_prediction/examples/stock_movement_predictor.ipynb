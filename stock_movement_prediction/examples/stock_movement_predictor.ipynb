{
 "cells": [
  {
   "cell_type": "markdown",
   "id": "ff007c99",
   "metadata": {},
   "source": [
    "# Feed Forward Neural Net For Stock Price Movements Prediction "
   ]
  },
  {
   "cell_type": "code",
   "execution_count": null,
   "id": "3053ffe0",
   "metadata": {},
   "outputs": [],
   "source": [
    "import sys\n",
    "sys.path.append('../../')"
   ]
  },
  {
   "cell_type": "code",
   "execution_count": null,
   "id": "c616813f",
   "metadata": {},
   "outputs": [],
   "source": [
    "QUANDL_API_KEY = 'NEuvvy7yNkgc3xh1gNhj'"
   ]
  },
  {
   "cell_type": "markdown",
   "id": "1f952a58",
   "metadata": {},
   "source": [
    "## Load Stock Price Data"
   ]
  },
  {
   "cell_type": "code",
   "execution_count": null,
   "id": "57f9824b",
   "metadata": {},
   "outputs": [],
   "source": [
    "%%time\n",
    "import datetime\n",
    "from data_loading.stocks_data_loaders import get_stock_attribute_data\n",
    "from data_loading.stocks_data_loaders import get_stock_data\n",
    "\n",
    "tickers = ['WIKI/AAPL','WIKI/MSTF']\n",
    "\n",
    "start_date_train=datetime.datetime(2013,1,1)\n",
    "\n",
    "end_date_train=datetime.datetime(2017,12,31)\n",
    "\n",
    "train_df=get_stock_data(tickers,start_date_train,end_date_train,QUANDL_API_KEY)\n",
    "\n",
    "train_prices_df=get_stock_attribute_data(stocks_df=train_df,attribute='Adj. Close')\n",
    "\n",
    "start_date_test=datetime.datetime(2018,1,1)\n",
    "\n",
    "end_date_test=datetime.datetime(2018,12,31)\n",
    "\n",
    "test_df=get_stock_data(tickers,start_date_test,end_date_test,QUANDL_API_KEY)\n",
    "\n",
    "test_prices_df=get_stock_attribute_data(stocks_df=test_df,attribute='Adj. Close')"
   ]
  },
  {
   "cell_type": "markdown",
   "id": "a6462bdc",
   "metadata": {},
   "source": [
    "## Preprocess Prices For Training"
   ]
  },
  {
   "cell_type": "code",
   "execution_count": null,
   "id": "e3aa4607",
   "metadata": {},
   "outputs": [],
   "source": [
    "%%time\n",
    "\n",
    "import numpy as np\n",
    "\n",
    "from stock_movement_prediction.data_preprocessing import price_preprocessing\n",
    "\n",
    "time_period=5\n",
    "\n",
    "train_preprocessed_df=price_preprocessing(train_prices_df,time_period=time_period)\n",
    "x_train=np.array(train_preprocessed_df['normalized_price_sequence'].tolist(),dtype=float)\n",
    "y_train=np.array(train_preprocessed_df['onehot_encoded_price_movement'].tolist(),dtype=float)\n",
    "\n",
    "test_preprocessed_df=price_preprocessing(test_prices_df,time_period=time_period)\n",
    "x_test=np.array(test_preprocessed_df['normalized_price_sequence'].tolist(),dtype=float)\n",
    "y_test=np.array(test_preprocessed_df['onehot_encoded_price_movement'].tolist(),dtype=float)\n",
    "\n",
    "# Remove rows with NANs\n",
    "is_nan=~np.isnan(x_train).any(axis=1)\n",
    "x_train=x_train[is_nan]\n",
    "y_train=y_train[is_nan]\n",
    "\n",
    "is_nan=~np.isnan(x_test).any(axis=1)\n",
    "x_test=x_test[is_nan]\n",
    "y_test=y_test[is_nan]"
   ]
  },
  {
   "cell_type": "markdown",
   "id": "8a264124",
   "metadata": {},
   "source": [
    "## Train Neural Network"
   ]
  },
  {
   "cell_type": "code",
   "execution_count": null,
   "id": "dcff5736",
   "metadata": {
    "scrolled": true
   },
   "outputs": [],
   "source": [
    "%%time\n",
    "import tensorflow as tf\n",
    "\n",
    "from ml_models.neural_networks import create_feedworward_network_model\n",
    "\n",
    "input_dim=x_train.shape[1]\n",
    "hidden_layers_sizes=[100,100]\n",
    "layers_activation='relu'\n",
    "output_dim=y_train.shape[1]\n",
    "output_activation='softmax'\n",
    "\n",
    "model=create_feedworward_network_model(input_dim,\n",
    "                                       hidden_layers_sizes,\n",
    "                                       layers_activation,\n",
    "                                       output_dim,\n",
    "                                       output_activation)\n",
    "\n",
    "optimizer=tf.keras.optimizers.Adam(learning_rate=0.0001)\n",
    "\n",
    "model.compile(optimizer=optimizer,loss='categorical_crossentropy',metrics=['accuracy'])\n",
    "\n",
    "training = model.fit(x_train,y_train,epochs=1000,batch_size=16,validation_data=(x_test,y_test),shuffle=True)"
   ]
  },
  {
   "cell_type": "markdown",
   "id": "b1a614a4",
   "metadata": {},
   "source": [
    "## Performances Analysis"
   ]
  },
  {
   "cell_type": "code",
   "execution_count": null,
   "id": "fa375ab0",
   "metadata": {},
   "outputs": [],
   "source": [
    "import matplotlib.pyplot as plt"
   ]
  },
  {
   "cell_type": "markdown",
   "id": "f37ee640",
   "metadata": {},
   "source": [
    "### Plot Training/Validation Metrics"
   ]
  },
  {
   "cell_type": "code",
   "execution_count": null,
   "id": "17235515",
   "metadata": {},
   "outputs": [],
   "source": [
    "fig,axs=plt.subplots(1,2,figsize=(8,2))\n",
    "tag='loss'\n",
    "axs[0].plot(training.history[f'{tag}'],label=f'training {tag}')\n",
    "axs[0].plot(training.history[f'val_{tag}'],label=f'testing {tag}')\n",
    "axs[0].legend()\n",
    "axs[0].set_xlabel('training steps')\n",
    "axs[0].set_ylabel(f'{tag}')\n",
    "axs[0].grid()\n",
    "\n",
    "tag='accuracy'\n",
    "axs[1].plot(training.history[f'{tag}'],label=f'training {tag}')\n",
    "axs[1].plot(training.history[f'val_{tag}'],label=f'testing {tag}')\n",
    "axs[1].legend()\n",
    "axs[1].set_xlabel('training steps')\n",
    "axs[1].set_ylabel(f'{tag}')\n",
    "axs[1].grid()\n",
    "plt.show()"
   ]
  },
  {
   "cell_type": "markdown",
   "id": "894f208f",
   "metadata": {},
   "source": [
    "### Display Confusion Matrix"
   ]
  },
  {
   "cell_type": "code",
   "execution_count": null,
   "id": "e944fa2b",
   "metadata": {},
   "outputs": [],
   "source": []
  }
 ],
 "metadata": {
  "kernelspec": {
   "display_name": "Python 3",
   "language": "python",
   "name": "python3"
  },
  "language_info": {
   "codemirror_mode": {
    "name": "ipython",
    "version": 3
   },
   "file_extension": ".py",
   "mimetype": "text/x-python",
   "name": "python",
   "nbconvert_exporter": "python",
   "pygments_lexer": "ipython3",
   "version": "3.7.7"
  }
 },
 "nbformat": 4,
 "nbformat_minor": 5
}
