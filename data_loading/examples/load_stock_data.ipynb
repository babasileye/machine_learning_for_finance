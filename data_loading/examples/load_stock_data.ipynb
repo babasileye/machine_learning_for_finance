{
 "cells": [
  {
   "cell_type": "markdown",
   "id": "2e5b04d9",
   "metadata": {},
   "source": [
    "# Test stock loading functionalities"
   ]
  },
  {
   "cell_type": "code",
   "execution_count": 1,
   "id": "03c76d8d",
   "metadata": {},
   "outputs": [],
   "source": [
    "import sys\n",
    "sys.path.append('../../')"
   ]
  },
  {
   "cell_type": "markdown",
   "id": "39ab8631",
   "metadata": {},
   "source": [
    "## Set quandl API key"
   ]
  },
  {
   "cell_type": "code",
   "execution_count": 2,
   "id": "bbe4febd",
   "metadata": {},
   "outputs": [],
   "source": [
    "QUANDL_API_KEY = 'NEuvvy7yNkgc3xh1gNhj'"
   ]
  },
  {
   "cell_type": "markdown",
   "id": "d36753f4",
   "metadata": {},
   "source": [
    "## Load Apple and Google stock data for 2015"
   ]
  },
  {
   "cell_type": "code",
   "execution_count": 3,
   "id": "52c7134c",
   "metadata": {},
   "outputs": [
    {
     "name": "stdout",
     "output_type": "stream",
     "text": [
      "            WIKI/AAPL - Open  WIKI/AAPL - High  WIKI/AAPL - Low  \\\n",
      "Date                                                              \n",
      "2016-01-04            102.61           105.368           102.00   \n",
      "2016-01-05            105.75           105.850           102.41   \n",
      "2016-01-06            100.56           102.370            99.87   \n",
      "\n",
      "            WIKI/AAPL - Close  WIKI/AAPL - Volume  WIKI/AAPL - Ex-Dividend  \\\n",
      "Date                                                                         \n",
      "2016-01-04             105.35          67649387.0                      0.0   \n",
      "2016-01-05             102.71          55790992.0                      0.0   \n",
      "2016-01-06             100.70          68457388.0                      0.0   \n",
      "\n",
      "            WIKI/AAPL - Split Ratio  WIKI/AAPL - Adj. Open  \\\n",
      "Date                                                         \n",
      "2016-01-04                      1.0              99.136516   \n",
      "2016-01-05                      1.0             102.170223   \n",
      "2016-01-06                      1.0              97.155911   \n",
      "\n",
      "            WIKI/AAPL - Adj. High  WIKI/AAPL - Adj. Low  ...  WIKI/GOOG - Low  \\\n",
      "Date                                                     ...                    \n",
      "2016-01-04             101.801154             98.547165  ...         731.2577   \n",
      "2016-01-05             102.266838             98.943286  ...         738.6400   \n",
      "2016-01-06              98.904640             96.489269  ...         728.9200   \n",
      "\n",
      "            WIKI/GOOG - Close  WIKI/GOOG - Volume  WIKI/GOOG - Ex-Dividend  \\\n",
      "Date                                                                         \n",
      "2016-01-04             741.84           3272776.0                      0.0   \n",
      "2016-01-05             742.58           1950691.0                      0.0   \n",
      "2016-01-06             743.62           1947034.0                      0.0   \n",
      "\n",
      "            WIKI/GOOG - Split Ratio  WIKI/GOOG - Adj. Open  \\\n",
      "Date                                                         \n",
      "2016-01-04                      1.0                 743.00   \n",
      "2016-01-05                      1.0                 746.45   \n",
      "2016-01-06                      1.0                 730.00   \n",
      "\n",
      "            WIKI/GOOG - Adj. High  WIKI/GOOG - Adj. Low  \\\n",
      "Date                                                      \n",
      "2016-01-04                 744.06              731.2577   \n",
      "2016-01-05                 752.00              738.6400   \n",
      "2016-01-06                 747.18              728.9200   \n",
      "\n",
      "            WIKI/GOOG - Adj. Close  WIKI/GOOG - Adj. Volume  \n",
      "Date                                                         \n",
      "2016-01-04                  741.84                3272776.0  \n",
      "2016-01-05                  742.58                1950691.0  \n",
      "2016-01-06                  743.62                1947034.0  \n",
      "\n",
      "[3 rows x 24 columns]\n",
      "CPU times: user 717 ms, sys: 91.8 ms, total: 808 ms\n",
      "Wall time: 4.82 s\n"
     ]
    }
   ],
   "source": [
    "%%time\n",
    "\n",
    "import datetime\n",
    "\n",
    "from data_loading.stocks_data_loaders import get_stock_data\n",
    "\n",
    "tickers = ['WIKI/AAPL','WIKI/GOOG']\n",
    "\n",
    "start_date = datetime.datetime(2016,1,1)\n",
    "\n",
    "end_date  = datetime.datetime(2016,12,31)\n",
    "\n",
    "df = get_stock_data(tickers,start_date,end_date,QUANDL_API_KEY)\n",
    "\n",
    "print(df.head(3))"
   ]
  },
  {
   "cell_type": "markdown",
   "id": "a36879c8",
   "metadata": {},
   "source": [
    "## Load S&P500 stocks data"
   ]
  },
  {
   "cell_type": "code",
   "execution_count": 4,
   "id": "d5135ecb",
   "metadata": {},
   "outputs": [
    {
     "name": "stdout",
     "output_type": "stream",
     "text": [
      "            WIKI/MMM - Open  WIKI/MMM - High  WIKI/MMM - Low  \\\n",
      "Date                                                           \n",
      "2015-01-02           164.71         165.0800         162.730   \n",
      "2015-01-05           163.00         163.6400         160.080   \n",
      "2015-01-06           160.82         161.3699         157.744   \n",
      "\n",
      "            WIKI/MMM - Close  WIKI/MMM - Volume  WIKI/MMM - Ex-Dividend  \\\n",
      "Date                                                                      \n",
      "2015-01-02            164.06          2117562.0                     0.0   \n",
      "2015-01-05            160.36          3692901.0                     0.0   \n",
      "2015-01-06            158.65          3537144.0                     0.0   \n",
      "\n",
      "            WIKI/MMM - Split Ratio  WIKI/MMM - Adj. Open  \\\n",
      "Date                                                       \n",
      "2015-01-02                     1.0            153.462911   \n",
      "2015-01-05                     1.0            151.869677   \n",
      "2015-01-06                     1.0            149.838536   \n",
      "\n",
      "            WIKI/MMM - Adj. High  WIKI/MMM - Adj. Low  ...  WIKI/ZTS - Low  \\\n",
      "Date                                                   ...                   \n",
      "2015-01-02            153.807646           151.618114  ...          43.065   \n",
      "2015-01-05            152.465975           149.149067  ...          42.970   \n",
      "2015-01-06            150.350887           146.972579  ...          42.295   \n",
      "\n",
      "            WIKI/ZTS - Close  WIKI/ZTS - Volume  WIKI/ZTS - Ex-Dividend  \\\n",
      "Date                                                                      \n",
      "2015-01-02             43.31          1784751.0                     0.0   \n",
      "2015-01-05             43.05          3116681.0                     0.0   \n",
      "2015-01-06             42.63          3987015.0                     0.0   \n",
      "\n",
      "            WIKI/ZTS - Split Ratio  WIKI/ZTS - Adj. Open  \\\n",
      "Date                                                       \n",
      "2015-01-02                     1.0             42.549858   \n",
      "2015-01-05                     1.0             42.344256   \n",
      "2015-01-06                     1.0             42.246350   \n",
      "\n",
      "            WIKI/ZTS - Adj. High  WIKI/ZTS - Adj. Low  WIKI/ZTS - Adj. Close  \\\n",
      "Date                                                                           \n",
      "2015-01-02             42.784832            42.163130              42.403000   \n",
      "2015-01-05             42.716298            42.070120              42.148444   \n",
      "2015-01-06             42.451952            41.409256              41.737240   \n",
      "\n",
      "            WIKI/ZTS - Adj. Volume  \n",
      "Date                                \n",
      "2015-01-02               1784751.0  \n",
      "2015-01-05               3116681.0  \n",
      "2015-01-06               3987015.0  \n",
      "\n",
      "[3 rows x 5731 columns]\n",
      "CPU times: user 46.5 s, sys: 749 ms, total: 47.2 s\n",
      "Wall time: 5min 47s\n"
     ]
    }
   ],
   "source": [
    "%%time\n",
    "\n",
    "import pandas as pd\n",
    "\n",
    "sp500_tickers_file = '../../data/SP500_companies.csv'\n",
    "\n",
    "tickers_df = pd.read_csv(sp500_tickers_file)\n",
    "\n",
    "tickers = [f'WIKI/{symbol}' for symbol in tickers_df['Symbol'].tolist()]\n",
    "\n",
    "start_date = datetime.datetime(2015,1,1)\n",
    "\n",
    "end_date  = datetime.datetime(2015,12,31)\n",
    "\n",
    "df = get_stock_data(tickers,start_date,end_date,QUANDL_API_KEY)\n",
    "\n",
    "print(df.head(3))"
   ]
  },
  {
   "cell_type": "markdown",
   "id": "c615aedf",
   "metadata": {},
   "source": [
    "### Extract stock prices"
   ]
  },
  {
   "cell_type": "code",
   "execution_count": 5,
   "id": "02d25991",
   "metadata": {},
   "outputs": [
    {
     "name": "stdout",
     "output_type": "stream",
     "text": [
      "            WIKI/MMM - Adj. Open  WIKI/AOS - Adj. Open  WIKI/ABT - Adj. Open  \\\n",
      "Date                                                                           \n",
      "2015-01-02            153.462911             27.379129             42.238557   \n",
      "2015-01-05            151.869677             26.692474             41.818505   \n",
      "2015-01-06            149.838536             26.653790             41.995861   \n",
      "\n",
      "            WIKI/ABBV - Adj. Open  WIKI/ABMD - Adj. Open  \\\n",
      "Date                                                       \n",
      "2015-01-02              58.924359                  38.27   \n",
      "2015-01-05              58.816604                  37.17   \n",
      "2015-01-06              58.924359                  37.09   \n",
      "\n",
      "            WIKI/ACN - Adj. Open  WIKI/ATVI - Adj. Open  \\\n",
      "Date                                                      \n",
      "2015-01-02             84.348663              19.755138   \n",
      "2015-01-05             82.815393              19.657534   \n",
      "2015-01-06             82.307438              19.403762   \n",
      "\n",
      "            WIKI/ADBE - Adj. Open  WIKI/AAP - Adj. Open  WIKI/AMD - Adj. Open  \\\n",
      "Date                                                                            \n",
      "2015-01-02                  72.70            160.114783                  2.70   \n",
      "2015-01-05                  72.21            157.447032                  2.67   \n",
      "2015-01-06                  71.95            155.844391                  2.65   \n",
      "\n",
      "            ...  WIKI/WYNN - Adj. Open  WIKI/XEL - Adj. Open  \\\n",
      "Date        ...                                                \n",
      "2015-01-02  ...             139.193591             32.785434   \n",
      "2015-01-05  ...             136.505081             32.794536   \n",
      "2015-01-06  ...             134.425468             32.639802   \n",
      "\n",
      "            WIKI/XRX - Adj. Open  WIKI/XLNX - Adj. Open  WIKI/XYL - Adj. Open  \\\n",
      "Date                                                                            \n",
      "2015-01-02             51.488464              40.484986             36.793990   \n",
      "2015-01-05             50.598174              40.457072             35.778323   \n",
      "2015-01-06             49.967552              39.852263             34.206913   \n",
      "\n",
      "            WIKI/YUM - Adj. Open  WIKI/ZBRA - Adj. Open  WIKI/ZBH - Adj. Open  \\\n",
      "Date                                                                            \n",
      "2015-01-02             49.475109                  77.99            111.636463   \n",
      "2015-01-05             48.781218                  76.69            111.440973   \n",
      "2015-01-06             48.073853                  76.28            114.519995   \n",
      "\n",
      "            WIKI/ZION - Adj. Open  WIKI/ZTS - Adj. Open  \n",
      "Date                                                     \n",
      "2015-01-02              27.994733             42.549858  \n",
      "2015-01-05              27.565096             42.344256  \n",
      "2015-01-06              26.559356             42.246350  \n",
      "\n",
      "[3 rows x 476 columns]\n"
     ]
    }
   ],
   "source": [
    "from data_loading.stocks_data_loaders import get_stock_attribute_data\n",
    "\n",
    "prices_df = get_stock_attribute_data(stocks_df=df,attribute='Adj. Close')\n",
    "\n",
    "print(prices_df.head(3))"
   ]
  },
  {
   "cell_type": "markdown",
   "id": "6659ff41",
   "metadata": {},
   "source": [
    "### Compute stock returns, mean returns, and volatilities "
   ]
  },
  {
   "cell_type": "code",
   "execution_count": 7,
   "id": "a80ee7f1",
   "metadata": {},
   "outputs": [
    {
     "name": "stdout",
     "output_type": "stream",
     "text": [
      "WIKI/MMM - Adj. Open   -0.016213\n",
      "WIKI/AOS - Adj. Open    0.150439\n",
      "WIKI/ABT - Adj. Open    0.015084\n",
      "dtype: float64\n"
     ]
    }
   ],
   "source": [
    "from data_loading.stocks_data_loaders import compute_stock_returns,compute_dataframe_mean_std\n",
    "\n",
    "returns_df=compute_stock_returns(prices_df)\n",
    "\n",
    "mean_returns,volatilities=compute_dataframe_mean_std(returns_df)\n",
    "\n",
    "print(mean_returns.head(3))"
   ]
  },
  {
   "cell_type": "code",
   "execution_count": 9,
   "id": "2edb6e08",
   "metadata": {},
   "outputs": [
    {
     "data": {
      "text/plain": [
       "WIKI/MMM - Adj. Open    -0.016213\n",
       "WIKI/AOS - Adj. Open     0.150439\n",
       "WIKI/ABT - Adj. Open     0.015084\n",
       "WIKI/ABBV - Adj. Open   -0.005231\n",
       "WIKI/ABMD - Adj. Open    0.422174\n",
       "                           ...   \n",
       "WIKI/YUM - Adj. Open     0.030242\n",
       "WIKI/ZBRA - Adj. Open   -0.018329\n",
       "WIKI/ZBH - Adj. Open    -0.030371\n",
       "WIKI/ZION - Adj. Open   -0.003103\n",
       "WIKI/ZTS - Adj. Open     0.060047\n",
       "Length: 476, dtype: float64"
      ]
     },
     "execution_count": 9,
     "metadata": {},
     "output_type": "execute_result"
    }
   ],
   "source": [
    "mean_returns"
   ]
  },
  {
   "cell_type": "code",
   "execution_count": null,
   "id": "bc4281c0",
   "metadata": {},
   "outputs": [],
   "source": []
  }
 ],
 "metadata": {
  "kernelspec": {
   "display_name": "Python 3",
   "language": "python",
   "name": "python3"
  },
  "language_info": {
   "codemirror_mode": {
    "name": "ipython",
    "version": 3
   },
   "file_extension": ".py",
   "mimetype": "text/x-python",
   "name": "python",
   "nbconvert_exporter": "python",
   "pygments_lexer": "ipython3",
   "version": "3.7.7"
  }
 },
 "nbformat": 4,
 "nbformat_minor": 5
}
