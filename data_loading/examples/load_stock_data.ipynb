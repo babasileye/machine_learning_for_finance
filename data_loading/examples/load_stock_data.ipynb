{
 "cells": [
  {
   "cell_type": "markdown",
   "id": "2e5b04d9",
   "metadata": {},
   "source": [
    "# Test stock loading functionalities"
   ]
  },
  {
   "cell_type": "code",
   "execution_count": null,
   "id": "03c76d8d",
   "metadata": {},
   "outputs": [],
   "source": [
    "import sys\n",
    "sys.path.append('../../')"
   ]
  },
  {
   "cell_type": "markdown",
   "id": "39ab8631",
   "metadata": {},
   "source": [
    "## Set quandl API key"
   ]
  },
  {
   "cell_type": "code",
   "execution_count": null,
   "id": "bbe4febd",
   "metadata": {},
   "outputs": [],
   "source": [
    "QUANDL_API_KEY = 'YOUR-QUANDL-API-KEY-HERE'"
   ]
  },
  {
   "cell_type": "markdown",
   "id": "d36753f4",
   "metadata": {},
   "source": [
    "## Load Apple and Google stock data for 2015"
   ]
  },
  {
   "cell_type": "code",
   "execution_count": null,
   "id": "52c7134c",
   "metadata": {},
   "outputs": [],
   "source": [
    "%%time\n",
    "\n",
    "import datetime\n",
    "\n",
    "from data_loading.stocks_data_loaders import get_stock_data\n",
    "\n",
    "tickers = ['AAPL','GOOG']\n",
    "\n",
    "start_date = datetime.datetime(2016,1,1)\n",
    "\n",
    "end_date  = datetime.datetime(2016,12,31)\n",
    "\n",
    "df = get_stock_data(tickers,start_date,end_date,QUANDL_API_KEY)\n",
    "\n",
    "print(df.head(3))"
   ]
  },
  {
   "cell_type": "markdown",
   "id": "a36879c8",
   "metadata": {},
   "source": [
    "## Load S&P500 stocks data"
   ]
  },
  {
   "cell_type": "code",
   "execution_count": null,
   "id": "d5135ecb",
   "metadata": {},
   "outputs": [],
   "source": [
    "%%time\n",
    "\n",
    "import pandas as pd\n",
    "\n",
    "sp500_tickers_file = '../../data/SP500_companies.csv'\n",
    "\n",
    "tickers_df = pd.read_csv(sp500_tickers_file)\n",
    "\n",
    "tickers = tickers_df['Symbol'].tolist()\n",
    "\n",
    "start_date = datetime.datetime(2015,1,1)\n",
    "\n",
    "end_date  = datetime.datetime(2015,12,31)\n",
    "\n",
    "df = get_stock_data(tickers,start_date,end_date,QUANDL_API_KEY)\n",
    "\n",
    "print(df.head(3))"
   ]
  },
  {
   "cell_type": "markdown",
   "id": "c615aedf",
   "metadata": {},
   "source": [
    "### Extract stock prices"
   ]
  },
  {
   "cell_type": "code",
   "execution_count": null,
   "id": "02d25991",
   "metadata": {},
   "outputs": [],
   "source": [
    "from data_loading.stocks_data_loaders import get_stock_attribute_data\n",
    "\n",
    "prices_df = get_stock_attribute_data(stocks_df=df,attribute='AdjClose')\n",
    "\n",
    "print(prices_df.head(3))"
   ]
  },
  {
   "cell_type": "markdown",
   "id": "6659ff41",
   "metadata": {},
   "source": [
    "### Compute stock returns, mean returns, and volatilities "
   ]
  },
  {
   "cell_type": "code",
   "execution_count": null,
   "id": "a80ee7f1",
   "metadata": {},
   "outputs": [],
   "source": [
    "from data_loading.stocks_data_loaders import compute_stock_returns\n",
    "\n",
    "returns_df = compute_stock_returns(prices_df)\n",
    "\n",
    "mean_returns, volatilities = compute_dataframe_mean_std(returns_df)\n",
    "\n",
    "print(mean_returns.head(3))"
   ]
  },
  {
   "cell_type": "code",
   "execution_count": null,
   "id": "3ee1b473",
   "metadata": {},
   "outputs": [],
   "source": []
  }
 ],
 "metadata": {
  "kernelspec": {
   "display_name": "Python 3",
   "language": "python",
   "name": "python3"
  },
  "language_info": {
   "codemirror_mode": {
    "name": "ipython",
    "version": 3
   },
   "file_extension": ".py",
   "mimetype": "text/x-python",
   "name": "python",
   "nbconvert_exporter": "python",
   "pygments_lexer": "ipython3",
   "version": "3.7.7"
  }
 },
 "nbformat": 4,
 "nbformat_minor": 5
}
