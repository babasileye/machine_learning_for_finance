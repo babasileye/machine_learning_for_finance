{
 "cells": [
  {
   "cell_type": "markdown",
   "id": "9f528dc4",
   "metadata": {},
   "source": [
    "# Test vanilla option pricing functions"
   ]
  },
  {
   "cell_type": "code",
   "execution_count": null,
   "id": "3622caa5",
   "metadata": {},
   "outputs": [],
   "source": [
    "import sys\n",
    "sys.path.append('../../')"
   ]
  },
  {
   "cell_type": "code",
   "execution_count": null,
   "id": "962b3883",
   "metadata": {},
   "outputs": [],
   "source": [
    "import matplotlib.pyplot as plt\n",
    "import numpy as np\n",
    "from options_pricing.analytical_pricers import compute_vanilla_option_price"
   ]
  },
  {
   "cell_type": "markdown",
   "id": "b5381460",
   "metadata": {},
   "source": [
    "## Call option price for varying time to expiration"
   ]
  },
  {
   "cell_type": "code",
   "execution_count": null,
   "id": "bd3deb97",
   "metadata": {},
   "outputs": [],
   "source": [
    "r = 0.01 #interest rate\n",
    "sigma = 0.1 # volatility\n",
    "initial_state=100 # initial underlying price\n",
    "K = 90  # strike price\n",
    "option_type = \"call\"\n",
    "time_to_maturity = [(12.0-n)/12.0 for n in range(12)] # time to expiry in year\n",
    "prices = [None]*len(time_to_maturity)\n",
    "\n",
    "for n in range(len(time_to_maturity)):\n",
    "    T = time_to_maturity[n]\n",
    "    prices[n] = compute_vanilla_option_price(r,sigma,initial_state,T,K,option_type)\n",
    "\n",
    "plt.figure(figsize=(5,3))\n",
    "plt.plot(time_to_maturity,prices)\n",
    "plt.xlabel(\"Time to maturity (year)\")\n",
    "plt.ylabel(\"Prices\")\n",
    "plt.title('Call option prices given time to maturity')\n",
    "plt.grid()\n",
    "plt.show()"
   ]
  },
  {
   "cell_type": "markdown",
   "id": "fd0e0987",
   "metadata": {},
   "source": [
    "## Call option price with respect to varying volatility rate"
   ]
  },
  {
   "cell_type": "code",
   "execution_count": null,
   "id": "53087716",
   "metadata": {},
   "outputs": [],
   "source": [
    "r = 0.01 #interest rate\n",
    "volatilities = [0.01 +n*0.01 for n in range(20)]\n",
    "initial_state=100 # initial underlying price\n",
    "K = 90  # strike price\n",
    "option_type = \"call\"\n",
    "T = 0.5\n",
    "prices = [None]*len(volatilities)\n",
    "\n",
    "for n in range(len(volatilities)):\n",
    "    sigma = volatilities[n]\n",
    "    prices[n] = compute_vanilla_option_price(r,sigma,initial_state,T,K,option_type)\n",
    "\n",
    "plt.figure(figsize=(5,3))\n",
    "plt.plot(volatilities,prices)\n",
    "plt.xlabel(\"Volatilities\")\n",
    "plt.ylabel(\"Prices\")\n",
    "plt.title('Call option prices given volatility')\n",
    "plt.grid()\n",
    "plt.show()"
   ]
  },
  {
   "cell_type": "code",
   "execution_count": null,
   "id": "eacf634d",
   "metadata": {},
   "outputs": [],
   "source": []
  }
 ],
 "metadata": {
  "kernelspec": {
   "display_name": "Python 3",
   "language": "python",
   "name": "python3"
  },
  "language_info": {
   "codemirror_mode": {
    "name": "ipython",
    "version": 3
   },
   "file_extension": ".py",
   "mimetype": "text/x-python",
   "name": "python",
   "nbconvert_exporter": "python",
   "pygments_lexer": "ipython3",
   "version": "3.7.7"
  }
 },
 "nbformat": 4,
 "nbformat_minor": 5
}
