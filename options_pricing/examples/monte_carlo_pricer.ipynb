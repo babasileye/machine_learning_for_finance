{
 "cells": [
  {
   "cell_type": "markdown",
   "id": "a35e96ea",
   "metadata": {},
   "source": [
    "# Monte Carlo option pricers"
   ]
  },
  {
   "cell_type": "code",
   "execution_count": null,
   "id": "88e2307b",
   "metadata": {},
   "outputs": [],
   "source": [
    "import sys\n",
    "sys.path.append('../../')"
   ]
  },
  {
   "cell_type": "code",
   "execution_count": null,
   "id": "49225aa0",
   "metadata": {},
   "outputs": [],
   "source": [
    "import matplotlib.pyplot as plt\n",
    "import numpy as np\n",
    "from options_pricing.analytical_pricers import compute_vanilla_option_price\n",
    "from options_pricing.monte_carlo_pricers import compute_monte_carlo_option_prices\n",
    "from sampling.lognormal_sampler import lognormal_price_sampler"
   ]
  },
  {
   "cell_type": "markdown",
   "id": "b55afd07",
   "metadata": {},
   "source": [
    "## Compute prices with analytical method "
   ]
  },
  {
   "cell_type": "code",
   "execution_count": null,
   "id": "ee9f06ac",
   "metadata": {},
   "outputs": [],
   "source": [
    "option_type = \"call\"\n",
    "r = 0.01 #interest rate\n",
    "sigma = 0.1 # volatility\n",
    "initial_state=100 # initial underlying price\n",
    "K = 90   # strike price\n",
    "T = 1.0  # time to expiry (a year)\n",
    "M = 252   # number of time steps (number of days)\n",
    "dt = T/M # step size (day)\n",
    "time_steps= [m*dt for m in range(M)] \n",
    "analytical_prices = [None]*len(time_steps)\n",
    "\n",
    "for n in range(len(time_steps)):\n",
    "    analytical_prices[n] = compute_vanilla_option_price(r,sigma,initial_state,time_steps[n],K,option_type)"
   ]
  },
  {
   "cell_type": "markdown",
   "id": "244580ec",
   "metadata": {},
   "source": [
    "## Compute prices with Monte Carlo approximation"
   ]
  },
  {
   "cell_type": "code",
   "execution_count": null,
   "id": "8d2cba5e",
   "metadata": {},
   "outputs": [],
   "source": [
    "N = 1000\n",
    "samples,time_steps = lognormal_price_sampler(r,sigma,initial_state,T,M,N)\n",
    "option_prices,price_times=compute_monte_carlo_option_prices(r,samples,time_steps,K,option_type)"
   ]
  },
  {
   "cell_type": "markdown",
   "id": "bb4ebc65",
   "metadata": {},
   "source": [
    "## Display prices"
   ]
  },
  {
   "cell_type": "code",
   "execution_count": null,
   "id": "a2a9020c",
   "metadata": {},
   "outputs": [],
   "source": [
    "fig = plt.figure(figsize=(5,3))\n",
    "plt.plot(time_steps,analytical_prices, label=\"analytical\")\n",
    "plt.plot(price_times, option_prices, label=\"monte carlo\")\n",
    "plt.xlabel('Time (year)')\n",
    "plt.ylabel('Price')\n",
    "plt.legend()\n",
    "plt.show()"
   ]
  }
 ],
 "metadata": {
  "kernelspec": {
   "display_name": "Python 3",
   "language": "python",
   "name": "python3"
  },
  "language_info": {
   "codemirror_mode": {
    "name": "ipython",
    "version": 3
   },
   "file_extension": ".py",
   "mimetype": "text/x-python",
   "name": "python",
   "nbconvert_exporter": "python",
   "pygments_lexer": "ipython3",
   "version": "3.7.7"
  }
 },
 "nbformat": 4,
 "nbformat_minor": 5
}
