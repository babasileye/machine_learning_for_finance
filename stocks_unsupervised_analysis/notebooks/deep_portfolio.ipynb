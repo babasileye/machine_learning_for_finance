{
 "cells": [
  {
   "cell_type": "markdown",
   "id": "e224b54f",
   "metadata": {},
   "source": [
    "# Portfolio Construction Using Autoencoder Embeddings"
   ]
  },
  {
   "cell_type": "code",
   "execution_count": null,
   "id": "cfff4923",
   "metadata": {},
   "outputs": [],
   "source": [
    "import sys\n",
    "sys.path.append('../../')"
   ]
  },
  {
   "cell_type": "code",
   "execution_count": null,
   "id": "6cb62d7f",
   "metadata": {},
   "outputs": [],
   "source": [
    "QUANDL_API_KEY = 'YOUR-QUANDL-API-HERE'"
   ]
  },
  {
   "cell_type": "markdown",
   "id": "0d51099f",
   "metadata": {},
   "source": [
    "## Load S&P500 Stock Prices And Compute Returns"
   ]
  },
  {
   "cell_type": "code",
   "execution_count": null,
   "id": "7e8cc5c7",
   "metadata": {},
   "outputs": [],
   "source": [
    "import pandas as pd\n",
    "\n",
    "from data_loading.stocks_data_loaders import get_stock_attribute_data\n",
    "from data_loading.stocks_data_loaders import get_stock_data\n",
    "from data_loading.stocks_data_loaders import compute_stock_returns\n",
    "\n",
    "sp_file='../../data/SP500_companies.csv'\n",
    "\n",
    "sp_df=pd.read_csv(sp_file)\n",
    "\n",
    "quandl_tickers=[f'WIKI/{symbol}' for symbol in sp_df['Symbol']]\n",
    "\n",
    "start_date='2017-1-1'\n",
    "\n",
    "end_date='2017-12-31'\n",
    "\n",
    "stocks_df=get_stock_data(quandl_tickers,start_date,end_date,QUANDL_API_KEY)\n",
    "\n",
    "prices_df=get_stock_attribute_data(stocks_df=stocks_df,attribute='Adj. Close')\n",
    "\n",
    "# Renaming columns name as stocks symbols\n",
    "renaming_map={key:key.split(' ')[0].split('/')[1] for key in prices_df.keys()}\n",
    "prices_df=prices_df.rename(columns=renaming_map)\n",
    "\n",
    "#dropping columns with missing symbols\n",
    "prices_df=prices_df.dropna(axis=1,how='all') \n",
    "\n",
    "#collecting remaining stocks symbols \n",
    "symbols=prices_df.keys().tolist()\n",
    "\n",
    "returns_df=compute_stock_returns(prices_df)\n",
    "\n",
    "returns_df=returns_df.fillna(returns_df.mean())"
   ]
  },
  {
   "cell_type": "markdown",
   "id": "5dc96532",
   "metadata": {},
   "source": [
    "## Stock Returns Autoencoder Embedding"
   ]
  },
  {
   "cell_type": "code",
   "execution_count": null,
   "id": "8d053f0b",
   "metadata": {},
   "outputs": [],
   "source": [
    "import tensorflow as tf\n",
    "\n",
    "from ml_models.neural_networks import create_autoencoder\n",
    "\n",
    "samples=returns_df.values.T\n",
    "\n",
    "encoder,autoencoder=create_autoencoder(input_dim=samples.shape[1],\n",
    "                                       encoding_layers_sizes=[150,50,20],\n",
    "                                       layers_activation='relu',\n",
    "                                       embedding_activation='tanh',\n",
    "                                       output_activation='linear')\n",
    "\n",
    "optimizer=tf.keras.optimizers.Adam(learning_rate=0.001)\n",
    "\n",
    "autoencoder.compile(optimizer='adam',loss='mean_squared_error')\n",
    "\n",
    "training=autoencoder.fit(samples,samples,epochs=1000,batch_size=16,shuffle=True)\n",
    "\n",
    "encoded = encoder.predict(samples)"
   ]
  },
  {
   "cell_type": "markdown",
   "id": "1bab70cf",
   "metadata": {},
   "source": [
    "## Compute Stocks Closest neighbors In Embedding Space"
   ]
  },
  {
   "cell_type": "code",
   "execution_count": null,
   "id": "4fcae0b5",
   "metadata": {},
   "outputs": [],
   "source": [
    "# Yet to be implemented"
   ]
  }
 ],
 "metadata": {
  "kernelspec": {
   "display_name": "Python 3",
   "language": "python",
   "name": "python3"
  },
  "language_info": {
   "codemirror_mode": {
    "name": "ipython",
    "version": 3
   },
   "file_extension": ".py",
   "mimetype": "text/x-python",
   "name": "python",
   "nbconvert_exporter": "python",
   "pygments_lexer": "ipython3",
   "version": "3.7.7"
  }
 },
 "nbformat": 4,
 "nbformat_minor": 5
}
