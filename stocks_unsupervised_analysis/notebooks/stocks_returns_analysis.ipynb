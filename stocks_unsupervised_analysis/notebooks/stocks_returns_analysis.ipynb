{
 "cells": [
  {
   "cell_type": "markdown",
   "id": "4f986b34",
   "metadata": {},
   "source": [
    "# Analyse S&P500 Stock Prices Using Unsupervised Machine Learning"
   ]
  },
  {
   "cell_type": "code",
   "execution_count": null,
   "id": "10ec1771",
   "metadata": {},
   "outputs": [],
   "source": [
    "import sys\n",
    "sys.path.append('../../')"
   ]
  },
  {
   "cell_type": "code",
   "execution_count": null,
   "id": "de85e76f",
   "metadata": {},
   "outputs": [],
   "source": [
    "QUANDL_API_KEY = 'YOUR-QUANDL-API-KEY-HERE'"
   ]
  },
  {
   "cell_type": "markdown",
   "id": "03b877e2",
   "metadata": {},
   "source": [
    "## Load S&P500 Stocks Symbols"
   ]
  },
  {
   "cell_type": "code",
   "execution_count": null,
   "id": "24001023",
   "metadata": {},
   "outputs": [],
   "source": [
    "import pandas as pd\n",
    "\n",
    "sp_file='../../data/SP500_companies.csv'\n",
    "\n",
    "sp_df=pd.read_csv(sp_file)\n",
    "\n",
    "sectors=list(set(sp_df['Sector'].values.tolist()))\n",
    "\n",
    "nb_sectors=len(sectors)\n",
    "\n",
    "markers=[\"+\",\"*\",\"o\",\"d\",\"<\",\"2\",\"v\",\"h\",\"p\",\"s\",\"1\",\">\",\"3\",\"4\"]\n",
    "\n",
    "sector_marker_map={sectors[n]:markers[n] for n in range(nb_sectors)}\n",
    "\n",
    "print(sector_marker_map)\n",
    "\n",
    "symbol_sector_map={sp_df['Symbol'][n]:sp_df['Sector'][n] for n in range(sp_df.shape[0])}"
   ]
  },
  {
   "cell_type": "markdown",
   "id": "8f183e7b",
   "metadata": {},
   "source": [
    "## Load S&P Stocks Prices"
   ]
  },
  {
   "cell_type": "code",
   "execution_count": null,
   "id": "0ebafa2b",
   "metadata": {},
   "outputs": [],
   "source": [
    "%%time\n",
    "\n",
    "import datetime\n",
    "import matplotlib.pyplot as plt\n",
    "\n",
    "from data_loading.stocks_data_loaders import get_stock_attribute_data\n",
    "from data_loading.stocks_data_loaders import get_stock_data\n",
    "\n",
    "quandl_tickers=[f'WIKI/{symbol}' for symbol in sp_df['Symbol']]\n",
    "\n",
    "start_date='2017-1-1'#datetime.datetime(2017,1,1)\n",
    "\n",
    "end_date='2017-4-30'#datetime.datetime(2017,4,30)\n",
    "\n",
    "stocks_df=get_stock_data(quandl_tickers,start_date,end_date,QUANDL_API_KEY)\n",
    "\n",
    "prices_df=get_stock_attribute_data(stocks_df=stocks_df,attribute='Adj. Close')\n",
    "\n",
    "# Renaming columns name as stocks symbols\n",
    "renaming_map={key:key.split(' ')[0].split('/')[1] for key in prices_df.keys()}\n",
    "prices_df=prices_df.rename(columns=renaming_map)\n",
    "\n",
    "#dropping columns with missing symbols\n",
    "prices_df=prices_df.dropna(axis=1,how='all') \n",
    "\n",
    "#collecting remaining stocks symbols \n",
    "symbols=prices_df.keys().tolist()"
   ]
  },
  {
   "cell_type": "markdown",
   "id": "fbe394df",
   "metadata": {},
   "source": [
    "## Compute Stock Returns"
   ]
  },
  {
   "cell_type": "code",
   "execution_count": null,
   "id": "20d963e7",
   "metadata": {},
   "outputs": [],
   "source": [
    "from data_loading.stocks_data_loaders import compute_stock_returns,compute_dataframe_mean_std\n",
    "\n",
    "returns_df=compute_stock_returns(prices_df)\n",
    "\n",
    "returns_df=returns_df.fillna(returns_df.mean())"
   ]
  },
  {
   "cell_type": "markdown",
   "id": "2c616e4c",
   "metadata": {},
   "source": [
    "## Plot Prices And Returns"
   ]
  },
  {
   "cell_type": "code",
   "execution_count": null,
   "id": "36e8a7a6",
   "metadata": {
    "scrolled": true
   },
   "outputs": [],
   "source": [
    "%matplotlib inline\n",
    "import matplotlib.pyplot as plt\n",
    "\n",
    "fig,axs = plt.subplots(1,2,figsize=(10,3))\n",
    "axs[0].plot(prices_df.values)\n",
    "axs[0].set_title('Adj Close price S&P500 stocks')\n",
    "axs[0].set_xlabel('Time (days)')\n",
    "axs[0].set_ylabel('Price (dollars)')\n",
    "\n",
    "for ticker in  [symbols[0], symbols[10]]:\n",
    "    axs[1].plot(returns_df[ticker].values, label=ticker)\n",
    "axs[1].set_title('Stocks returns')\n",
    "axs[1].set_xlabel('Time (days)')\n",
    "axs[1].set_ylabel('Return (percentage)')\n",
    "axs[1].legend()\n",
    "plt.show()"
   ]
  },
  {
   "cell_type": "markdown",
   "id": "b3f3d87b",
   "metadata": {},
   "source": [
    "## Stock Returns PCA Analysis"
   ]
  },
  {
   "cell_type": "code",
   "execution_count": null,
   "id": "c8458a4e",
   "metadata": {},
   "outputs": [],
   "source": [
    "import numpy as np\n",
    "\n",
    "from sklearn.cluster import KMeans\n",
    "\n",
    "from sklearn.decomposition import PCA\n",
    "\n",
    "pca = PCA()\n",
    "\n",
    "samples=returns_df.values.T\n",
    "\n",
    "nb_samples=samples.shape[0]\n",
    "\n",
    "pca.fit(samples)\n",
    "\n",
    "K=100\n",
    "\n",
    "explained=sum(pca.explained_variance_ratio_[0:K])\n",
    "\n",
    "print(\"variance explained by {} first eigenvectors {}%\".format(K,100*explained))\n",
    "\n",
    "samples_2d=np.matmul(samples,pca.components_[:,0:2])\n",
    "\n",
    "kmeans=KMeans(n_clusters=5)\n",
    "\n",
    "kmeans.fit(samples_2d)\n",
    "\n",
    "colormap=[\"r\",\"g\",\"b\",\"c\",\"y\",\"k\",\"m\"] \n",
    "\n",
    "fig = plt.figure(figsize=(15,12))\n",
    "\n",
    "for n in range(0,nb_samples,2):\n",
    "    x=samples_2d[n,0]\n",
    "    y=samples_2d[n,1]\n",
    "    symbol = symbols[n]\n",
    "    plt.scatter(x,y,marker=sector_marker_map[symbol_sector_map[symbol]],color=colormap[kmeans.labels_[n]])\n",
    "    plt.text(x,y,symbol,fontsize=8)\n",
    "plt.xlabel(\"PC-1\")\n",
    "plt.ylabel(\"PC-2\")\n",
    "plt.show()"
   ]
  },
  {
   "cell_type": "code",
   "execution_count": null,
   "id": "a370233a",
   "metadata": {},
   "outputs": [],
   "source": [
    "fig,axs=plt.subplots(1,2,figsize=(10,3))\n",
    "axs[0].bar(np.arange(pca.explained_variance_ratio_.shape[0]),100*pca.explained_variance_ratio_)\n",
    "axs[0].set_ylabel('Percentage of explained variance')\n",
    "axs[0].set_xlabel('PC Index')\n",
    "lineObjects = axs[1].plot(pca.components_[:,0:2])\n",
    "axs[1].legend(iter(lineObjects), ('PC-1', 'PC-2'))\n",
    "axs[1].set_xlabel(\"time\")\n",
    "axs[1].set_ylabel(\"return\")\n",
    "plt.show()"
   ]
  },
  {
   "cell_type": "markdown",
   "id": "6002890c",
   "metadata": {},
   "source": [
    "## Stocks Returns Neural Embedding Analysis"
   ]
  },
  {
   "cell_type": "code",
   "execution_count": null,
   "id": "b6b9d712",
   "metadata": {
    "scrolled": true
   },
   "outputs": [],
   "source": [
    "import tensorflow as tf\n",
    "\n",
    "from ml_models.neural_networks import create_autoencoder\n",
    "\n",
    "encoder,autoencoder=create_autoencoder(input_dim=samples.shape[1],\n",
    "                                       encoding_layers_sizes=[150,50,2],\n",
    "                                       layers_activation='relu',\n",
    "                                       embedding_activation='tanh',\n",
    "                                       output_activation='linear')\n",
    "\n",
    "optimizer=tf.keras.optimizers.Adam(learning_rate=0.001)\n",
    "    \n",
    "autoencoder.compile(optimizer='adam',loss='mean_squared_error')\n",
    "\n",
    "training=autoencoder.fit(samples,samples,epochs=1000,batch_size=16,shuffle=True)"
   ]
  },
  {
   "cell_type": "code",
   "execution_count": null,
   "id": "7040a6be",
   "metadata": {},
   "outputs": [],
   "source": [
    "samples_2d = encoder.predict(samples)\n",
    "\n",
    "kmeans = KMeans(n_clusters=5)\n",
    "\n",
    "kmeans.fit(samples_2d)\n",
    "\n",
    "fig = plt.figure(figsize=(15,12))\n",
    "\n",
    "for n in range(nb_samples):\n",
    "    x=samples_2d[n,0]\n",
    "    y=samples_2d[n,1]\n",
    "    symbol = symbols[n]\n",
    "    plt.scatter(x,y,marker=sector_marker_map[symbol_sector_map[symbol]],color=colormap[kmeans.labels_[n]])\n",
    "    plt.text(x+0.003,y+0.003,symbol,fontsize=8)\n",
    "plt.title('S&P 500 return trajectories auto-encoder embedding')\n",
    "plt.xlabel(\"X1\")\n",
    "plt.ylabel(\"X2\")\n",
    "plt.show()"
   ]
  }
 ],
 "metadata": {
  "kernelspec": {
   "display_name": "Python 3",
   "language": "python",
   "name": "python3"
  },
  "language_info": {
   "codemirror_mode": {
    "name": "ipython",
    "version": 3
   },
   "file_extension": ".py",
   "mimetype": "text/x-python",
   "name": "python",
   "nbconvert_exporter": "python",
   "pygments_lexer": "ipython3",
   "version": "3.7.7"
  }
 },
 "nbformat": 4,
 "nbformat_minor": 5
}
