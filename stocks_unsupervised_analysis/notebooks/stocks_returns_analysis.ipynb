{
 "cells": [
  {
   "cell_type": "code",
   "execution_count": null,
   "id": "10ec1771",
   "metadata": {},
   "outputs": [],
   "source": [
    "import sys\n",
    "sys.path.append('../../')"
   ]
  },
  {
   "cell_type": "code",
   "execution_count": null,
   "id": "de85e76f",
   "metadata": {},
   "outputs": [],
   "source": [
    "QUANDL_API_KEY = 'YOUR-QUANDL-API-KEY-HERE'"
   ]
  },
  {
   "cell_type": "markdown",
   "id": "03b877e2",
   "metadata": {},
   "source": [
    "## Load S&P500 stock price data"
   ]
  },
  {
   "cell_type": "code",
   "execution_count": null,
   "id": "0ebafa2b",
   "metadata": {},
   "outputs": [],
   "source": [
    "%%time\n",
    "\n",
    "import datetime\n",
    "import matplotlib.pyplot as plt\n",
    "import pandas as pd\n",
    "\n",
    "from data_loading.stocks_data_loaders import get_stock_attribute_data\n",
    "from data_loading.stocks_data_loaders import get_stock_data\n",
    "\n",
    "sp500_file='../../data/SP500_companies.csv'\n",
    "\n",
    "sp500_df=pd.read_csv(sp500_file)\n",
    "\n",
    "quandl_tickers=[f'WIKI/{symbol}' for symbol in sp500_df['Symbol']]\n",
    "\n",
    "start_date=datetime.datetime(2017,1,1)\n",
    "\n",
    "end_date=datetime.datetime(2017,12,31)\n",
    "\n",
    "stocks_df=get_stock_data(quandl_tickers,start_date,end_date,QUANDL_API_KEY)\n",
    "\n",
    "prices_df=get_stock_attribute_data(stocks_df=stocks_df,attribute='Adj. Close')\n",
    "\n",
    "# Renaming columns name as stocks symbols\n",
    "\n",
    "renaming_map={key:key.split(' ')[0].split('/')[1] for key in prices_df.keys()}\n",
    "\n",
    "prices_df=prices_df.rename(columns=renaming_map)"
   ]
  },
  {
   "cell_type": "code",
   "execution_count": null,
   "id": "c4c1f76e",
   "metadata": {},
   "outputs": [],
   "source": [
    "sectors=list(set(sp500_df['Sector'].values.tolist()))\n",
    "\n",
    "nb_sectors=len(sectors)\n",
    "\n",
    "markers=[\"+\", \"*\", \"o\", \"d\", \"<\", \"2\", \"v\", \"h\", \"p\", \"s\", \"1\", \">\", \"3\",\"4\"]\n",
    "\n",
    "sector_marker_map={sectors[n]:markers[n] for n in range(nb_sectors)}\n",
    "\n",
    "print(sector_marker_map)\n",
    "\n",
    "symbol_sector_map={sp500_df['Symbol'][n]:sp500_df['Sector'][n] for n in range(sp500_df.shape[0])}"
   ]
  },
  {
   "cell_type": "code",
   "execution_count": null,
   "id": "20d963e7",
   "metadata": {},
   "outputs": [],
   "source": [
    "from data_loading.stocks_data_loaders import compute_stock_returns,compute_dataframe_mean_std\n",
    "\n",
    "returns_df=compute_stock_returns(prices_df)\n",
    "\n",
    "returns_df=returns_df.fillna(value=0.0)#FILLING MISSING VALUES WITH 0"
   ]
  },
  {
   "cell_type": "code",
   "execution_count": null,
   "id": "36e8a7a6",
   "metadata": {
    "scrolled": true
   },
   "outputs": [],
   "source": [
    "fig,axs = plt.subplots(1,2,figsize=(10,3))\n",
    "axs[0].plot(prices_df.values)\n",
    "axs[0].set_title('Adj Close price S&P500 stocks')\n",
    "axs[0].set_xlabel('Time (days)')\n",
    "axs[0].set_ylabel('Price (dollars)')\n",
    "\n",
    "for ticker in  ['GOOG', 'GM']:\n",
    "    axs[1].plot(returns_df[ticker].values, label=ticker)\n",
    "axs[1].set_title('Stocks returns')\n",
    "axs[1].set_xlabel('Time (days)')\n",
    "axs[1].set_ylabel('Return (percentage)')\n",
    "axs[1].legend()\n",
    "plt.show()"
   ]
  },
  {
   "cell_type": "code",
   "execution_count": null,
   "id": "c8458a4e",
   "metadata": {},
   "outputs": [],
   "source": [
    "import numpy as np\n",
    "\n",
    "from sklearn.cluster import KMeans\n",
    "\n",
    "from sklearn.decomposition import PCA\n",
    "\n",
    "pca = PCA()\n",
    "\n",
    "samples=returns_df.values.T\n",
    "\n",
    "nb_samples=samples.shape[0]\n",
    "\n",
    "pca.fit(samples)\n",
    "\n",
    "K=100\n",
    "\n",
    "explained=sum(pca.explained_variance_ratio_[0:K])\n",
    "\n",
    "print(\"variance explained by {} first eigenvectors {}%\".format(K,100*explained))\n",
    "\n",
    "samples_2d=np.matmul(samples,pca.components_[:,0:2])\n",
    "\n",
    "kmeans=KMeans(n_clusters=5)\n",
    "\n",
    "kmeans.fit(samples_2d)\n",
    "\n",
    "colormap=[\"r\",\"g\",\"b\",\"c\",\"y\",\"k\",\"m\"] \n",
    "\n",
    "fig = plt.figure(figsize=(15,12))\n",
    "\n",
    "for n in range(0,nb_samples,2):\n",
    "    x=samples_2d[n,0]\n",
    "    y=samples_2d[n,1]\n",
    "    symbol = sp500_df['Symbol'][n]\n",
    "    plt.scatter(x,y,marker=sector_marker_map[symbol_sector_map[symbol]],color=colormap[kmeans.labels_[n]])\n",
    "    plt.text(x,y,symbol,fontsize=8)\n",
    "plt.xlabel(\"PCA-1\")\n",
    "plt.ylabel(\"PCA-2\")\n",
    "plt.show()"
   ]
  },
  {
   "cell_type": "code",
   "execution_count": null,
   "id": "a370233a",
   "metadata": {},
   "outputs": [],
   "source": [
    "fig,axs=plt.subplots(1,2,figsize=(10,3))\n",
    "axs[0].bar(np.arange(pca.explained_variance_ratio_.shape[0]),100*pca.explained_variance_ratio_)\n",
    "axs[0].set_ylabel('Percentage of explained variance')\n",
    "axs[0].set_xlabel('PC Index')\n",
    "lineObjects = axs[1].plot(pca.components_[:,0:2])\n",
    "axs[1].legend(iter(lineObjects), ('PCA-1', 'PCA-2'))\n",
    "axs[1].set_xlabel(\"time\")\n",
    "axs[1].set_ylabel(\"return\")\n",
    "plt.show()"
   ]
  },
  {
   "cell_type": "code",
   "execution_count": null,
   "id": "9b0a4bfe",
   "metadata": {},
   "outputs": [],
   "source": [
    "mean_returns,volatilities=compute_dataframe_mean_std(returns_df)\n",
    "\n",
    "fig = plt.figure(figsize=(15,12))\n",
    "for n in range(nb_samples):\n",
    "    symbol = sp500_df['Symbol'][n]\n",
    "    try:\n",
    "        y = mean_returns[symbol]\n",
    "        x =volatilities[symbol]\n",
    "        plt.scatter(x,y,marker=sector_marker_map[symbol_sector_map[symbol]],color=colormap[kmeans.labels_[n]])\n",
    "        plt.text(x, y, symbol, fontsize=9)\n",
    "    except:\n",
    "        continue\n",
    "plt.title('mean volatility S&P 500 return trajectories PCA embedding')\n",
    "plt.xlabel(\"volatility\")\n",
    "plt.ylabel(\"mean return \")\n",
    "plt.grid(True)\n",
    "plt.show()"
   ]
  },
  {
   "cell_type": "code",
   "execution_count": null,
   "id": "5e38e1aa",
   "metadata": {},
   "outputs": [],
   "source": [
    "from ml_models.neural_networks import create_autoencoder\n",
    "\n",
    "encoder,autoencoder=create_autoencoder(input_dim=samples.shape[1],\n",
    "                                       encoding_layers_sizes=[150,50,2],\n",
    "                                       layers_activation='tanh',\n",
    "                                       output_activation='linear')\n",
    "\n",
    "autoencoder.compile(optimizer='adam',loss='mean_squared_error')\n",
    "\n",
    "training=autoencoder.fit(samples,samples,epochs=1000,batch_size=32,shuffle=True)"
   ]
  },
  {
   "cell_type": "code",
   "execution_count": null,
   "id": "172d6f81",
   "metadata": {},
   "outputs": [],
   "source": [
    "samples_2d = encoder.predict(samples)\n",
    "\n",
    "kmeans = KMeans(n_clusters=5)\n",
    "\n",
    "kmeans.fit(samples_2d)\n",
    "\n",
    "colormap=[\"r\",\"g\",\"b\",\"c\",\"y\",\"k\",\"m\"] \n",
    "\n",
    "fig = plt.figure(figsize=(15,12))\n",
    "\n",
    "for n in range(0,nb_samples,2):\n",
    "    x=samples_2d[n,0]\n",
    "    y=samples_2d[n,1]\n",
    "    symbol = sp500_df['Symbol'][n]\n",
    "    plt.scatter(x,y,marker=sector_marker_map[symbol_sector_map[symbol]],color=colormap[kmeans.labels_[n]])\n",
    "    plt.text(x,y,symbol,fontsize=8)\n",
    "plt.title('S&P 500 return trajectories auto-encoder embedding')\n",
    "plt.xlabel(\"X1\")\n",
    "plt.ylabel(\"X2\")\n",
    "plt.show()"
   ]
  },
  {
   "cell_type": "code",
   "execution_count": null,
   "id": "19582aa1",
   "metadata": {},
   "outputs": [],
   "source": []
  }
 ],
 "metadata": {
  "kernelspec": {
   "display_name": "Python 3",
   "language": "python",
   "name": "python3"
  },
  "language_info": {
   "codemirror_mode": {
    "name": "ipython",
    "version": 3
   },
   "file_extension": ".py",
   "mimetype": "text/x-python",
   "name": "python",
   "nbconvert_exporter": "python",
   "pygments_lexer": "ipython3",
   "version": "3.7.7"
  }
 },
 "nbformat": 4,
 "nbformat_minor": 5
}
