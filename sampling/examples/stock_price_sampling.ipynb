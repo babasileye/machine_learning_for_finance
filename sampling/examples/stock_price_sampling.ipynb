{
 "cells": [
  {
   "cell_type": "code",
   "execution_count": null,
   "id": "bbcd9fea",
   "metadata": {},
   "outputs": [],
   "source": [
    "import matplotlib.pyplot as plt\n",
    "import sys\n",
    "sys.path.append('../../')"
   ]
  },
  {
   "cell_type": "markdown",
   "id": "ffecb5c8",
   "metadata": {},
   "source": [
    "## Sample prices according to lognormal distribution"
   ]
  },
  {
   "cell_type": "code",
   "execution_count": null,
   "id": "61b4c821",
   "metadata": {},
   "outputs": [],
   "source": [
    "from sampling.lognormal_sampler import lognormal_price_sampler\n",
    "\n",
    "r = 0.01\n",
    "sigma = 0.1\n",
    "initial_state = 100.0\n",
    "T = 1.0\n",
    "M = 252\n",
    "N = 100\n",
    "states, time_steps = lognormal_price_sampler(r,sigma,initial_state,T,M,N)\n",
    "\n",
    "fig= plt.figure(figsize=(7,4))\n",
    "for n in range(N):\n",
    "    plt.plot(time_steps,states[n,:])\n",
    "plt.xlabel('Time (year)')\n",
    "plt.ylabel('Price')\n",
    "plt.grid()\n",
    "plt.show()"
   ]
  },
  {
   "cell_type": "code",
   "execution_count": null,
   "id": "3665c999",
   "metadata": {},
   "outputs": [],
   "source": []
  }
 ],
 "metadata": {
  "kernelspec": {
   "display_name": "Python 3",
   "language": "python",
   "name": "python3"
  },
  "language_info": {
   "codemirror_mode": {
    "name": "ipython",
    "version": 3
   },
   "file_extension": ".py",
   "mimetype": "text/x-python",
   "name": "python",
   "nbconvert_exporter": "python",
   "pygments_lexer": "ipython3",
   "version": "3.7.7"
  }
 },
 "nbformat": 4,
 "nbformat_minor": 5
}
